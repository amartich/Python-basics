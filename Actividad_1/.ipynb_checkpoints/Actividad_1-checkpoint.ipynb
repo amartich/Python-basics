{
 "cells": [
  {
   "cell_type": "markdown",
   "metadata": {},
   "source": [
    "## Ejercicio 1\n",
    "\n",
    "Completa la siguiente función para que dado un número de documento nacional de identidad (DNI), se devuelva una letra. Esta letra se obtiene calculando el resto del DNI entre 23 y a partir de ese valor asignarle una letra de la siguiente tabla:\n",
    "\n",
    "![Tabla letras de control DNI](./img/letras.jpg)\n",
    "\n",
    "El valor DNI será un número entero y la letra debe ser una cadena de carateres que contendrá una única letra en mayúsculas."
   ]
  },
  {
   "cell_type": "code",
   "execution_count": 1,
   "metadata": {},
   "outputs": [],
   "source": [
    "def ejercicio_1(dni):\n",
    "     # Escribe aquí el código del ejercicio\n",
    "    letra = ['T','R','W','A','G','M','Y','F','P','D','X','B','N','J','Z','S','Q','V','H','L','C','K','E']  \n",
    "    resto = dni % 23\n",
    "    num_letra = letra[resto]\n",
    "    print(f\"Su NIF es: {dni}{num_letra}\")\n",
    "    return num_letra"
   ]
  },
  {
   "cell_type": "markdown",
   "metadata": {},
   "source": [
    "## Ejercicio 2\n",
    "\n",
    "Completa la siguiente función para que dado el precio de un producto, se calcule y se devuelva el precio total que debe pagar el cliente, es decir, incluyenfo el IVA (21% sobre el precio del producto). El precio total deberá ser únicamente el valor del precio, es decir, no debe contener el símbolo de la moneda. Redondee la salida al segundo decimal en caso necesario.\n"
   ]
  },
  {
   "cell_type": "code",
   "execution_count": 20,
   "metadata": {},
   "outputs": [],
   "source": [
    "def ejercicio_2(precio):\n",
    "    # Escribe aquí el código del ejercicio\n",
    "    IVA = 0.21\n",
    "        \n",
    "    precio_total = round(precio + (precio * IVA), 2)\n",
    "    #precio_total = precio * (IVA / 100)\n",
    "    #print('el valor a pagar es : ', precio_total)\n",
    "    \n",
    "    return precio_total"
   ]
  },
  {
   "cell_type": "markdown",
   "metadata": {},
   "source": [
    "## Ejercicio 3\n",
    "\n",
    "Completa la siguiente función para que dado el diámetro de una circunferencia, se calcule el área del círculo que contiene dicha circunferencia. Como valor de PI se usará $3.1415$."
   ]
  },
  {
   "cell_type": "code",
   "execution_count": 1,
   "metadata": {},
   "outputs": [],
   "source": [
    "def ejercicio_3(diametro):\n",
    "    # Escribe aquí el código del ejercicio\n",
    "    PI = 3.1415\n",
    "    #diametro = 20\n",
    "    radio = diametro/2\n",
    "    area = PI * radio ** 2\n",
    "    print(area)\n",
    "    return area"
   ]
  },
  {
   "cell_type": "markdown",
   "metadata": {},
   "source": [
    "## Ejercicio 4\n",
    "\n",
    "Completar la función para que dado dos números entéros <n> y <m> dos números enteros, se calcula el cociente y el resto de hacer la división entera entre n y m."
   ]
  },
  {
   "cell_type": "code",
   "execution_count": 15,
   "metadata": {},
   "outputs": [],
   "source": [
    "def ejercicio_4(n, m):\n",
    "    # Escribe tu programa aquí\n",
    "    #n = 5\n",
    "    #m = 3\n",
    "    \n",
    "    \n",
    "    cociente = n/m\n",
    "    resto = n%m\n",
    "    \n",
    "    cociente = int(cociente)\n",
    "    resto = int(resto)\n",
    "    \n",
    "    print('El cociente es:', cociente , \"y el residuo es\", resto)\n",
    "  \n",
    "    return cociente, resto"
   ]
  },
  {
   "cell_type": "markdown",
   "metadata": {},
   "source": [
    "## Ejercicio 5\n",
    "\n",
    "Completar la función para que dado el número de unidades que ha comprado un usuario de 2 productos diferentes, devolver el peso total del paquete para enviar su compra por mensajería. El peso de cada unidad del producto1 es de 147 unidades y el peso de cada unidad del producto2 es de 2400 unidades. La función debe devolver únicamente el peso total."
   ]
  },
  {
   "cell_type": "code",
   "execution_count": 50,
   "metadata": {},
   "outputs": [],
   "source": [
    "def ejercicio_5(producto1, producto2):\n",
    "    # Escribe tu programa aquí\n",
    "    peso_unidades_1 = 147 \n",
    "    peso_unidades_2 = 2400\n",
    "    #producto1 = 2\n",
    "    #producto2 = 2\n",
    "    peso_total_producto1 = peso_unidades_1 * producto1\n",
    "    peso_total_producto2 = peso_unidades_2 * producto2\n",
    "    peso_total = peso_total_producto1 + peso_total_producto2  \n",
    "    print(peso_total)\n",
    "    return peso_total"
   ]
  }
 ],
 "metadata": {
  "kernelspec": {
   "display_name": "Python 3",
   "language": "python",
   "name": "python3"
  },
  "language_info": {
   "codemirror_mode": {
    "name": "ipython",
    "version": 3
   },
   "file_extension": ".py",
   "mimetype": "text/x-python",
   "name": "python",
   "nbconvert_exporter": "python",
   "pygments_lexer": "ipython3",
   "version": "3.7.7"
  }
 },
 "nbformat": 4,
 "nbformat_minor": 4
}
