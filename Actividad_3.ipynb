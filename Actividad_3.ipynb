{
 "cells": [
  {
   "cell_type": "markdown",
   "metadata": {},
   "source": [
    "En la siguiente celda, completa los siguientes ejercicios:\n",
    "\n",
    "## Ejercicio 1\n",
    "\n",
    "Escribe una clase llamada Numero. Esta clase debe tener una constructora que reciba un número y almacene ese número en 2 atributos: romano que almacenará el número en el formato de número romanos como una cadena de caracteres y normal que guardará el número que nos han dado en la constructora.\n",
    "\n",
    "## Ejercicio 2\n",
    "Crea dos nuevos métodos en la clase Numero. El primer método, llamado imprime() imprime un mensaje mostrando el valor de ambos atributos; el segundo atributo, suma_romano() tendrá como parámetros una cadena de caracteres que representará otro número romano y que sumaremos a los atributos que ya teníamos.\n",
    "\n",
    "## Ejercicio 3\n",
    "\n",
    "Define una función dentro de la clase Numero que a partir de una cadena de caracteres, devuelve True si esa cadena de caracteres corresponde con un número romano y falso en caso contrario. Después, modifica el método para que lance un error en el caso de que el valor que nos pasan por parámetro no se corresponde con el patrón de un número romano"
   ]
  },
  {
   "cell_type": "code",
   "execution_count": 9,
   "metadata": {},
   "outputs": [],
   "source": [
    "class Numero:\n",
    "\n",
    "    def __init__(self,numero):\n",
    "        self.normal=numero\n",
    "        self.romano=self.int_to_rom (numero)\n",
    "\n",
    "\n",
    "    def int_to_rom(self,normal):\n",
    "        listaR=['M', 'CM', 'D', 'CD','C', 'XC', 'L', 'XL','X', 'IX', 'V', 'IV','I']\n",
    "        listaN=[1000, 900, 500, 400,100, 90, 50, 40,10, 9, 5, 4,1]\n",
    "        un_numero_romano = ''\n",
    "        i = 0\n",
    "        while  normal > 0:\n",
    "            for a in range(normal // listaN[i]):\n",
    "                un_numero_romano += listaR[i]\n",
    "                normal-= listaN[i]\n",
    "            i += 1\n",
    "        return un_numero_romano\n",
    "    \n",
    "    \n",
    "    def rom_to_int(self,romano):\n",
    "\n",
    "        lista={'I':1,'V':5,'X':10,'L':50,'C':100,'D':500,'M':1000}\n",
    "        un_numero_entero=0\n",
    "        \n",
    "        for i in range(len(romano)):\n",
    "            if i>0 and lista[romano[i]]>lista[romano[i-1]]:\n",
    "                un_numero_entero+=lista[romano[i]]-2*lista[romano[i-1]]\n",
    "            else:\n",
    "                un_numero_entero+=lista[romano[i]]\n",
    "        return un_numero_entero \n",
    "    \n",
    "    \n",
    "    def imprime (self):\n",
    "        print(self.normal, self.romano)\n",
    "      \n",
    "    def suma_romano(self,otro_romano):        \n",
    "        suma=self.int_to_rom((self.rom_to_int(otro_romano)+self.normal))\n",
    "        self.romano=suma\n",
    "    \n",
    "    def is_romano (self,romano):\n",
    "\n",
    "        try:\n",
    "            self.rom_to_int(romano) != int\n",
    "            resultado= True\n",
    "        except:\n",
    "            resultado= False\n",
    "\n",
    "        return resultado\n",
    "\n"
   ]
  },
  {
   "cell_type": "markdown",
   "metadata": {},
   "source": [
    "En la siguiente celda, completa los siguientes ejercicios:\n",
    "\n",
    "## Ejercicio 4\n",
    "\n",
    "Implementa una clase MejorNumero. Esta clase heredará las propiedades de Numero e incluirá dos métodos nuevos para restar y multiplicar los atributos recibiendo por parámetro otro número romano.\n",
    "\n",
    "## Ejercicio 5\n",
    "\n",
    "En la clase MejorNumero, crea un nuevo método que reciba una lista con 3 números romanos. A continuación, iterando sobre los elementos de la lista llamará a la función suma_romano(). Los posibles errores se tendrán que gestionar con excepciones para mostrar un mensaje y seguir ejecutando el siguiente número."
   ]
  },
  {
   "cell_type": "code",
   "execution_count": 10,
   "metadata": {},
   "outputs": [],
   "source": [
    "import re\n",
    "class MejorNumero(Numero):\n",
    "  \n",
    "    def __init__(self,numero):\n",
    "        Numero.__init__(self,numero)\n",
    "    \n",
    "    def resta(self,romano):\n",
    "        self.normal = self.normal - self.rom_to_int(romano)\n",
    "        self.romano = self.int_to_rom(self.normal) \n",
    "    \n",
    "    def multiplica(self,romano):\n",
    "        self.normal = self.normal * self.rom_to_int(romano)\n",
    "        self.romano = self.int_to_rom(self.normal) \n",
    "\n",
    "    def iterar(self,lista):\n",
    "\n",
    "        for item in lista: \n",
    "            try:\n",
    "                self.normal = self.normal + self.rom_to_int(item)\n",
    "                self.romano = self.int_to_rom(self.normal)\n",
    "            except:\n",
    "                print(\"Ha fallado el número\", item )\n",
    "            "
   ]
  },
  {
   "cell_type": "code",
   "execution_count": null,
   "metadata": {},
   "outputs": [],
   "source": []
  }
 ],
 "metadata": {
  "kernelspec": {
   "display_name": "Python 3",
   "language": "python",
   "name": "python3"
  },
  "language_info": {
   "codemirror_mode": {
    "name": "ipython",
    "version": 3
   },
   "file_extension": ".py",
   "mimetype": "text/x-python",
   "name": "python",
   "nbconvert_exporter": "python",
   "pygments_lexer": "ipython3",
   "version": "3.8.5"
  }
 },
 "nbformat": 4,
 "nbformat_minor": 2
}
